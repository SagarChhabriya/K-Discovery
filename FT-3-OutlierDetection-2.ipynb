{
 "cells": [
  {
   "cell_type": "markdown",
   "metadata": {},
   "source": [
    "# Outlier Detection: IQR Based Filtering (skewed distribution)\n",
    "\n",
    "- You should apply the IQR Proximity rule if you have a skewed column that is not normally distributed. The data points out of the upper and lower limits can be considered outliers: either trim or cap.\n",
    "\n",
    "`Interquartile Range: Q1 - 1.5 x IQR  <=  Acceptable Range <= Q3 - 1.5 x IQR`"
   ]
  }
 ],
 "metadata": {
  "language_info": {
   "name": "python"
  }
 },
 "nbformat": 4,
 "nbformat_minor": 2
}
