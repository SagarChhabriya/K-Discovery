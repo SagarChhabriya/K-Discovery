{
 "cells": [
  {
   "cell_type": "markdown",
   "metadata": {},
   "source": [
    "# Feature Transformation\n",
    "1. Missing Value Imputation (Remove Missing Values | Impute Missing Values)<br>\n",
    "    - Remove (drop) <br>\n",
    "    - Impute (CCA: Complete Case Analysis) <br>\n",
    "        - Univariate Imputation (Use When MCAR: Missing Completely at random ) <br><br>\n",
    "            a. Numerical <br><br>\n",
    "                - Mean/median<br>\n",
    "                - Random<br>\n",
    "                - End of Distribution (NMAR: Not missing at Random)<br><br>\n",
    "            b. Categorical<br><br>\n",
    "                - Mode<br>\n",
    "                - Missing (indicator)<br><br>\n",
    "        - Multivariate Imputation<br><br>\n",
    "            - KNN imputer <br>\n",
    "            - Iterative Imputer <br>\n",
    "            - MICE (Multivariate Imputation by Chained Equations)<br><br>\n"
   ]
  },
  {
   "cell_type": "code",
   "execution_count": null,
   "metadata": {
    "vscode": {
     "languageId": "plaintext"
    }
   },
   "outputs": [],
   "source": []
  }
 ],
 "metadata": {
  "language_info": {
   "name": "python"
  }
 },
 "nbformat": 4,
 "nbformat_minor": 2
}
