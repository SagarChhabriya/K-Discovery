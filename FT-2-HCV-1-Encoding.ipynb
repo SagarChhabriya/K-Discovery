{
 "cells": [
  {
   "cell_type": "markdown",
   "metadata": {},
   "source": [
    "# Feature Transformation\n",
    "<pre>\n",
    "    2. Handling Categorical Features (Encoding Categorical Data)<br><br>\n",
    "        1. Oridnal Encoding <br>\n",
    "        1. One Hot Encoding<br>\n",
    "            - sklearn ColumnTransformer<br> \n",
    "        1. Label Encoding<br><br>\n",
    "</pre>"
   ]
  },
  {
   "cell_type": "code",
   "execution_count": null,
   "metadata": {},
   "outputs": [],
   "source": [
    "import pandas as pd"
   ]
  }
 ],
 "metadata": {
  "kernelspec": {
   "display_name": "Python 3",
   "language": "python",
   "name": "python3"
  },
  "language_info": {
   "name": "python",
   "version": "3.12.3"
  }
 },
 "nbformat": 4,
 "nbformat_minor": 2
}
