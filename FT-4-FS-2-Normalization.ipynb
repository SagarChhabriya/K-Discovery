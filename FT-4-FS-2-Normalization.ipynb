{
 "cells": [
  {
   "cell_type": "markdown",
   "metadata": {},
   "source": [
    "# Feature Transformation\n",
    "## Feature Scaling\n",
    "1. Normalization<br>\n",
    "    a. Min Max Scaling<br>\n",
    "    b. Mean Normalization <br>\n",
    "    c. Max Absolute Scaling <br>\n",
    "    d. Robust Scaling <br>"
   ]
  },
  {
   "cell_type": "code",
   "execution_count": null,
   "metadata": {
    "vscode": {
     "languageId": "plaintext"
    }
   },
   "outputs": [],
   "source": []
  }
 ],
 "metadata": {
  "language_info": {
   "name": "python"
  }
 },
 "nbformat": 4,
 "nbformat_minor": 2
}
